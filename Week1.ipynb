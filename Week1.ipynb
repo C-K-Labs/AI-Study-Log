{
 "cells": [
  {
   "cell_type": "code",
   "execution_count": 37,
   "id": "af8ef761-474d-4191-bcf5-545d167a8226",
   "metadata": {},
   "outputs": [
    {
     "name": "stdout",
     "output_type": "stream",
     "text": [
      "Hello, world\n"
     ]
    }
   ],
   "source": [
    "print(\"Hello, world\")"
   ]
  },
  {
   "cell_type": "code",
   "execution_count": 43,
   "id": "d37013b8-29ef-4b14-8004-faa0f196bf43",
   "metadata": {},
   "outputs": [
    {
     "name": "stdout",
     "output_type": "stream",
     "text": [
      "CK 26 Python\n"
     ]
    }
   ],
   "source": [
    "name = \"CK\"\n",
    "age = 26\n",
    "favorite_programming_language = \"Python\"\n",
    "\n",
    "print(name, age, favorite_programming_language)"
   ]
  },
  {
   "cell_type": "code",
   "execution_count": null,
   "id": "9f5be935-f764-42f6-9751-e8cae9d005f6",
   "metadata": {},
   "outputs": [],
   "source": [
    "  "
   ]
  }
 ],
 "metadata": {
  "kernelspec": {
   "display_name": "Python [conda env:base] *",
   "language": "python",
   "name": "conda-base-py"
  },
  "language_info": {
   "codemirror_mode": {
    "name": "ipython",
    "version": 3
   },
   "file_extension": ".py",
   "mimetype": "text/x-python",
   "name": "python",
   "nbconvert_exporter": "python",
   "pygments_lexer": "ipython3",
   "version": "3.12.7"
  }
 },
 "nbformat": 4,
 "nbformat_minor": 5
}
